{
 "cells": [
  {
   "cell_type": "markdown",
   "metadata": {},
   "source": [
    "\n",
    "![BTS](https://github.com/vfp1/bts-dsf-2020/raw/main/Logo-BTS.jpg)\n",
    "\n",
    "# 3rd_Assigment-C\n",
    "\n",
    "### Lenin Escobar <lenin.escobar@bts.tech> - Data Driven Business (2020-12-21)\n",
    "\n",
    "Open this notebook in Github: [![Open in Colab](https://colab.research.google.com/assets/colab-badge.svg)](https://colab.research.google.com/github/lveagithub/bts-ddb-2020/blob/master/3rdDatascienceFinance/code/3rd_Assigment-C_Helper.ipynb)"
   ]
  },
  {
   "cell_type": "markdown",
   "metadata": {},
   "source": [
    "### Import libraries"
   ]
  },
  {
   "cell_type": "code",
   "execution_count": 1,
   "metadata": {},
   "outputs": [],
   "source": [
    "import numpy as np\n",
    "import pandas as pd\n",
    "import time\n",
    "from contextlib import contextmanager\n",
    "import gc\n",
    "import warnings\n",
    "warnings.simplefilter(action='ignore', category=FutureWarning)\n",
    "pd.set_option('display.max_columns', None)\n",
    "pd.set_option('display.max_rows', None)"
   ]
  },
  {
   "cell_type": "markdown",
   "metadata": {},
   "source": [
    "<h1 style=\"background-color:powderblue;\">General helper Classes</h1>"
   ]
  },
  {
   "cell_type": "code",
   "execution_count": null,
   "metadata": {},
   "outputs": [],
   "source": [
    "class CleaningHelper():\n",
    "    \"\"\"Cleaning Helper\"\"\"\n",
    "    def __init__(self, version):\n",
    "        pd.options.mode.chained_assignment = None  # default='warn'\n",
    "        self.version = version\n",
    "    \n",
    "    def __str__(self):\n",
    "        return f\"Cleaning helper version {self.version}\"\n",
    "    \n",
    "    @contextmanager\n",
    "    def timer(title):\n",
    "        t0 = time.time()\n",
    "        yield\n",
    "        print(\"{} - done in {:.0f}s\".format(title, time.time() - t0))\n",
    "    \n",
    "    def get_nulls_data(self, df_):\n",
    "        #We want to know the quality of data. \n",
    "        #So, let's start by detecting not null percentage related to every column. \n",
    "\n",
    "        df_tot_nulls = df_.isnull().sum().sort_values(ascending=False)\n",
    "        df_tot_nulls_perc = 100 - round(df_tot_nulls/len(df_)*100,2)\n",
    "        df_tot_perc_nulls = pd.concat([df_tot_nulls,df_tot_nulls_perc],axis=1)\n",
    "        df_tot_perc_nulls = df_tot_perc_nulls.rename(columns={0: \"Total\", 1: \"PercNotNull\"})\n",
    "        return df_tot_perc_nulls\n",
    "    \n",
    "    def load_training_data(self):\n",
    "        # Train Dataset\n",
    "        df_app_train = pd.read_csv('../home-credit-default-risk/dataset/application_train.csv')\n",
    "        print('Testing data shape: ', df_app_train.shape)\n",
    "        return df_app_train\n",
    "    \n",
    "    def load_testing_data(self):\n",
    "        # Test Dataset\n",
    "        df_app_test = pd.read_csv('../home-credit-default-risk/dataset/application_test.csv')\n",
    "        print('Testing data shape: ', df_app_test.shape)\n",
    "        return df_app_test"
   ]
  }
 ],
 "metadata": {
  "kernelspec": {
   "display_name": "Python [conda env:dsfinalproject]",
   "language": "python",
   "name": "conda-env-dsfinalproject-py"
  },
  "language_info": {
   "codemirror_mode": {
    "name": "ipython",
    "version": 3
   },
   "file_extension": ".py",
   "mimetype": "text/x-python",
   "name": "python",
   "nbconvert_exporter": "python",
   "pygments_lexer": "ipython3",
   "version": "3.9.1"
  }
 },
 "nbformat": 4,
 "nbformat_minor": 2
}
