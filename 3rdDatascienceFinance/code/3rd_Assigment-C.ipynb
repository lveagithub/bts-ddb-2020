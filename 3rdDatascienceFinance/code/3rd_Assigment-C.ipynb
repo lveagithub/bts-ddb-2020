{
 "cells": [
  {
   "cell_type": "markdown",
   "metadata": {},
   "source": [
    "\n",
    "![BTS](https://github.com/vfp1/bts-dsf-2020/raw/main/Logo-BTS.jpg)\n",
    "\n",
    "# 3rd_Assigment-C\n",
    "\n",
    "### Lenin Escobar <lenin.escobar@bts.tech> - Data Driven Business (2020-12-21)\n",
    "\n",
    "Open this notebook in Github: [![Open in Colab](https://colab.research.google.com/assets/colab-badge.svg)](https://colab.research.google.com/github/lveagithub/bts-ddb-2020/blob/master/3rdDatascienceFinance/code/3rd_Assigment-C.ipynb)\n"
   ]
  },
  {
   "cell_type": "markdown",
   "metadata": {},
   "source": [
    "Please, build a Logistic regression model by using \"application train/test\" data only with categorical variables. Please submit the python code and the classification report. "
   ]
  },
  {
   "cell_type": "markdown",
   "metadata": {},
   "source": [
    "### Import libraries"
   ]
  },
  {
   "cell_type": "code",
   "execution_count": 30,
   "metadata": {},
   "outputs": [
    {
     "name": "stdout",
     "output_type": "stream",
     "text": [
      "The memory_profiler extension is already loaded. To reload it, use:\n",
      "  %reload_ext memory_profiler\n"
     ]
    }
   ],
   "source": [
    "%config IPCompleter.greedy=True\n",
    "%load_ext memory_profiler\n",
    "%matplotlib inline\n",
    "%run 3rd_Assigment-C_Helper.ipynb\n",
    "%run 3rd_Assigment-C_Plot.ipynb"
   ]
  },
  {
   "cell_type": "code",
   "execution_count": 31,
   "metadata": {},
   "outputs": [
    {
     "name": "stdout",
     "output_type": "stream",
     "text": [
      "Cleaning helper version 1.0\n"
     ]
    }
   ],
   "source": [
    "cleaningHelper = CleaningHelper(version = \"1.0\")\n",
    "print(cleaningHelper)"
   ]
  },
  {
   "cell_type": "code",
   "execution_count": 32,
   "metadata": {},
   "outputs": [
    {
     "name": "stdout",
     "output_type": "stream",
     "text": [
      "Testing data shape:  (307511, 122)\n"
     ]
    }
   ],
   "source": [
    "df_app_train = cleaningHelper.load_training_data()"
   ]
  },
  {
   "cell_type": "code",
   "execution_count": 33,
   "metadata": {},
   "outputs": [
    {
     "data": {
      "text/plain": [
       "COMMONAREA_MEDI                 30.13\n",
       "COMMONAREA_AVG                  30.13\n",
       "COMMONAREA_MODE                 30.13\n",
       "NONLIVINGAPARTMENTS_MODE        30.57\n",
       "NONLIVINGAPARTMENTS_AVG         30.57\n",
       "NONLIVINGAPARTMENTS_MEDI        30.57\n",
       "FONDKAPREMONT_MODE              31.61\n",
       "LIVINGAPARTMENTS_MODE           31.65\n",
       "LIVINGAPARTMENTS_AVG            31.65\n",
       "LIVINGAPARTMENTS_MEDI           31.65\n",
       "FLOORSMIN_AVG                   32.15\n",
       "FLOORSMIN_MODE                  32.15\n",
       "FLOORSMIN_MEDI                  32.15\n",
       "YEARS_BUILD_MEDI                33.50\n",
       "YEARS_BUILD_MODE                33.50\n",
       "YEARS_BUILD_AVG                 33.50\n",
       "OWN_CAR_AGE                     34.01\n",
       "LANDAREA_MEDI                   40.62\n",
       "LANDAREA_MODE                   40.62\n",
       "LANDAREA_AVG                    40.62\n",
       "BASEMENTAREA_MEDI               41.48\n",
       "BASEMENTAREA_AVG                41.48\n",
       "BASEMENTAREA_MODE               41.48\n",
       "EXT_SOURCE_1                    43.62\n",
       "NONLIVINGAREA_MODE              44.82\n",
       "NONLIVINGAREA_AVG               44.82\n",
       "NONLIVINGAREA_MEDI              44.82\n",
       "ELEVATORS_MEDI                  46.70\n",
       "ELEVATORS_AVG                   46.70\n",
       "ELEVATORS_MODE                  46.70\n",
       "WALLSMATERIAL_MODE              49.16\n",
       "APARTMENTS_MEDI                 49.25\n",
       "APARTMENTS_AVG                  49.25\n",
       "APARTMENTS_MODE                 49.25\n",
       "ENTRANCES_MEDI                  49.65\n",
       "ENTRANCES_AVG                   49.65\n",
       "ENTRANCES_MODE                  49.65\n",
       "LIVINGAREA_AVG                  49.81\n",
       "LIVINGAREA_MODE                 49.81\n",
       "LIVINGAREA_MEDI                 49.81\n",
       "HOUSETYPE_MODE                  49.82\n",
       "FLOORSMAX_MODE                  50.24\n",
       "FLOORSMAX_MEDI                  50.24\n",
       "FLOORSMAX_AVG                   50.24\n",
       "YEARS_BEGINEXPLUATATION_MODE    51.22\n",
       "YEARS_BEGINEXPLUATATION_MEDI    51.22\n",
       "YEARS_BEGINEXPLUATATION_AVG     51.22\n",
       "TOTALAREA_MODE                  51.73\n",
       "EMERGENCYSTATE_MODE             52.60\n",
       "OCCUPATION_TYPE                 68.65\n",
       "EXT_SOURCE_3                    80.17\n",
       "AMT_REQ_CREDIT_BUREAU_HOUR      86.50\n",
       "AMT_REQ_CREDIT_BUREAU_DAY       86.50\n",
       "AMT_REQ_CREDIT_BUREAU_WEEK      86.50\n",
       "AMT_REQ_CREDIT_BUREAU_MON       86.50\n",
       "AMT_REQ_CREDIT_BUREAU_QRT       86.50\n",
       "AMT_REQ_CREDIT_BUREAU_YEAR      86.50\n",
       "NAME_TYPE_SUITE                 99.58\n",
       "OBS_30_CNT_SOCIAL_CIRCLE        99.67\n",
       "DEF_30_CNT_SOCIAL_CIRCLE        99.67\n",
       "OBS_60_CNT_SOCIAL_CIRCLE        99.67\n",
       "DEF_60_CNT_SOCIAL_CIRCLE        99.67\n",
       "EXT_SOURCE_2                    99.79\n",
       "AMT_GOODS_PRICE                 99.91\n",
       "Name: PercNotNull, dtype: float64"
      ]
     },
     "execution_count": 33,
     "metadata": {},
     "output_type": "execute_result"
    }
   ],
   "source": [
    "#No nulls\n",
    "df_app_train_nulls = cleaningHelper.get_nulls_data(df_app_train)\n",
    "df_app_train_nulls.loc[df_app_train_nulls['PercNotNull'] != 100.00, 'PercNotNull']"
   ]
  },
  {
   "cell_type": "code",
   "execution_count": null,
   "metadata": {},
   "outputs": [],
   "source": []
  }
 ],
 "metadata": {
  "kernelspec": {
   "display_name": "Python [conda env:dsfinalproject]",
   "language": "python",
   "name": "conda-env-dsfinalproject-py"
  },
  "language_info": {
   "codemirror_mode": {
    "name": "ipython",
    "version": 3
   },
   "file_extension": ".py",
   "mimetype": "text/x-python",
   "name": "python",
   "nbconvert_exporter": "python",
   "pygments_lexer": "ipython3",
   "version": "3.9.1"
  }
 },
 "nbformat": 4,
 "nbformat_minor": 2
}
